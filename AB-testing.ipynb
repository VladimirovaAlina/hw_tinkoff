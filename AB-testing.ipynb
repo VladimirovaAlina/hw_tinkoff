{
 "cells": [
  {
   "cell_type": "code",
   "execution_count": 1,
   "metadata": {},
   "outputs": [],
   "source": [
    "import pandas as pd\n",
    "import numpy as np\n",
    "\n",
    "import scipy\n",
    "\n",
    "from matplotlib import pyplot as plt\n",
    "import matplotlib\n",
    "\n",
    "%matplotlib inline\n",
    "import seaborn as sns\n",
    "\n",
    "from scipy import stats"
   ]
  },
  {
   "cell_type": "code",
   "execution_count": 2,
   "metadata": {
    "scrolled": true
   },
   "outputs": [
    {
     "data": {
      "text/html": [
       "<div>\n",
       "<style scoped>\n",
       "    .dataframe tbody tr th:only-of-type {\n",
       "        vertical-align: middle;\n",
       "    }\n",
       "\n",
       "    .dataframe tbody tr th {\n",
       "        vertical-align: top;\n",
       "    }\n",
       "\n",
       "    .dataframe thead th {\n",
       "        text-align: right;\n",
       "    }\n",
       "</style>\n",
       "<table border=\"1\" class=\"dataframe\">\n",
       "  <thead>\n",
       "    <tr style=\"text-align: right;\">\n",
       "      <th></th>\n",
       "      <th>ic</th>\n",
       "      <th>session_id</th>\n",
       "      <th>source</th>\n",
       "      <th>device_type</th>\n",
       "      <th>medium</th>\n",
       "      <th>user_type</th>\n",
       "      <th>variation</th>\n",
       "      <th>loads</th>\n",
       "      <th>submit_short</th>\n",
       "      <th>submit</th>\n",
       "    </tr>\n",
       "  </thead>\n",
       "  <tbody>\n",
       "    <tr>\n",
       "      <td>0</td>\n",
       "      <td>8622ec3f-ff3e-11e9-8000-000051787d40</td>\n",
       "      <td>AV3Ag4n6iKs</td>\n",
       "      <td>google</td>\n",
       "      <td>HIGHEND_PHONE</td>\n",
       "      <td>ctx.cpc</td>\n",
       "      <td>Visitor</td>\n",
       "      <td>1134:4075-Новая продуктовая</td>\n",
       "      <td>1</td>\n",
       "      <td>0</td>\n",
       "      <td>0</td>\n",
       "    </tr>\n",
       "    <tr>\n",
       "      <td>1</td>\n",
       "      <td>3c6cdd0b-0315-11ea-8000-0000e93dddd1</td>\n",
       "      <td>AV3G9VJrLAA</td>\n",
       "      <td>google</td>\n",
       "      <td>HIGHEND_PHONE</td>\n",
       "      <td>ctx.cpc</td>\n",
       "      <td>Visitor</td>\n",
       "      <td>1134:4075-Новая продуктовая</td>\n",
       "      <td>1</td>\n",
       "      <td>0</td>\n",
       "      <td>0</td>\n",
       "    </tr>\n",
       "    <tr>\n",
       "      <td>2</td>\n",
       "      <td>fc573c77-0c23-11ea-8000-00002250d9e6</td>\n",
       "      <td>AV3WJ3UuV38</td>\n",
       "      <td>yandex.ru</td>\n",
       "      <td>HIGHEND_PHONE</td>\n",
       "      <td>NaN</td>\n",
       "      <td>Visitor</td>\n",
       "      <td>1134:4074-Контрольная вариация</td>\n",
       "      <td>1</td>\n",
       "      <td>0</td>\n",
       "      <td>0</td>\n",
       "    </tr>\n",
       "    <tr>\n",
       "      <td>3</td>\n",
       "      <td>c67e3adf-0482-11ea-8000-00000e0d01e7</td>\n",
       "      <td>AV3JWqsYa6o</td>\n",
       "      <td>http://yandex.ru/searchapp?text=</td>\n",
       "      <td>HIGHEND_PHONE</td>\n",
       "      <td>NaN</td>\n",
       "      <td>Client-Heavy</td>\n",
       "      <td>1134:4074-Контрольная вариация</td>\n",
       "      <td>1</td>\n",
       "      <td>0</td>\n",
       "      <td>0</td>\n",
       "    </tr>\n",
       "    <tr>\n",
       "      <td>4</td>\n",
       "      <td>9f6fadb9-fbff-11e9-8000-00004777e08e</td>\n",
       "      <td>AV27D4ECjyY</td>\n",
       "      <td>yandex</td>\n",
       "      <td>PERSONAL_COMPUTER</td>\n",
       "      <td>ctx.cpc</td>\n",
       "      <td>Visitor</td>\n",
       "      <td>1134:4074-Контрольная вариация</td>\n",
       "      <td>1</td>\n",
       "      <td>0</td>\n",
       "      <td>0</td>\n",
       "    </tr>\n",
       "  </tbody>\n",
       "</table>\n",
       "</div>"
      ],
      "text/plain": [
       "                                     ic   session_id  \\\n",
       "0  8622ec3f-ff3e-11e9-8000-000051787d40  AV3Ag4n6iKs   \n",
       "1  3c6cdd0b-0315-11ea-8000-0000e93dddd1  AV3G9VJrLAA   \n",
       "2  fc573c77-0c23-11ea-8000-00002250d9e6  AV3WJ3UuV38   \n",
       "3  c67e3adf-0482-11ea-8000-00000e0d01e7  AV3JWqsYa6o   \n",
       "4  9f6fadb9-fbff-11e9-8000-00004777e08e  AV27D4ECjyY   \n",
       "\n",
       "                             source        device_type   medium     user_type  \\\n",
       "0                            google      HIGHEND_PHONE  ctx.cpc       Visitor   \n",
       "1                            google      HIGHEND_PHONE  ctx.cpc       Visitor   \n",
       "2                         yandex.ru      HIGHEND_PHONE      NaN       Visitor   \n",
       "3  http://yandex.ru/searchapp?text=      HIGHEND_PHONE      NaN  Client-Heavy   \n",
       "4                            yandex  PERSONAL_COMPUTER  ctx.cpc       Visitor   \n",
       "\n",
       "                        variation  loads  submit_short  submit  \n",
       "0     1134:4075-Новая продуктовая      1             0       0  \n",
       "1     1134:4075-Новая продуктовая      1             0       0  \n",
       "2  1134:4074-Контрольная вариация      1             0       0  \n",
       "3  1134:4074-Контрольная вариация      1             0       0  \n",
       "4  1134:4074-Контрольная вариация      1             0       0  "
      ]
     },
     "execution_count": 2,
     "metadata": {},
     "output_type": "execute_result"
    }
   ],
   "source": [
    "data = pd.read_csv('table_tink.csv')\n",
    "data.head()"
   ]
  },
  {
   "cell_type": "markdown",
   "metadata": {},
   "source": [
    "посчитаем общее кол-во идентификаторов вариации"
   ]
  },
  {
   "cell_type": "code",
   "execution_count": 3,
   "metadata": {},
   "outputs": [
    {
     "data": {
      "text/plain": [
       "1134:4075-Новая продуктовая       509\n",
       "1134:4074-Контрольная вариация    491\n",
       "Name: variation, dtype: int64"
      ]
     },
     "execution_count": 3,
     "metadata": {},
     "output_type": "execute_result"
    }
   ],
   "source": [
    "data['variation'].value_counts()"
   ]
  },
  {
   "cell_type": "markdown",
   "metadata": {},
   "source": [
    "кол-во уникальных сессий "
   ]
  },
  {
   "cell_type": "code",
   "execution_count": 4,
   "metadata": {},
   "outputs": [
    {
     "data": {
      "text/plain": [
       "995"
      ]
     },
     "execution_count": 4,
     "metadata": {},
     "output_type": "execute_result"
    }
   ],
   "source": [
    "data['session_id'].nunique()"
   ]
  },
  {
   "cell_type": "markdown",
   "metadata": {},
   "source": [
    "oпределим сессии, в которые совершалось больше 1 события"
   ]
  },
  {
   "cell_type": "code",
   "execution_count": 5,
   "metadata": {},
   "outputs": [
    {
     "data": {
      "text/plain": [
       "Index(['AV3S9Hka3VY', 'AV3ApaafjQQ', 'AV3UFEsjGzk', 'AV3EXHEUcvo',\n",
       "       'AV3UEUlhaK8'],\n",
       "      dtype='object')"
      ]
     },
     "execution_count": 5,
     "metadata": {},
     "output_type": "execute_result"
    }
   ],
   "source": [
    "data['session_id'].value_counts()[data['session_id'].value_counts() > 1].index"
   ]
  },
  {
   "cell_type": "code",
   "execution_count": 6,
   "metadata": {},
   "outputs": [
    {
     "data": {
      "text/html": [
       "<div>\n",
       "<style scoped>\n",
       "    .dataframe tbody tr th:only-of-type {\n",
       "        vertical-align: middle;\n",
       "    }\n",
       "\n",
       "    .dataframe tbody tr th {\n",
       "        vertical-align: top;\n",
       "    }\n",
       "\n",
       "    .dataframe thead th {\n",
       "        text-align: right;\n",
       "    }\n",
       "</style>\n",
       "<table border=\"1\" class=\"dataframe\">\n",
       "  <thead>\n",
       "    <tr style=\"text-align: right;\">\n",
       "      <th></th>\n",
       "      <th>ic</th>\n",
       "      <th>session_id</th>\n",
       "      <th>source</th>\n",
       "      <th>device_type</th>\n",
       "      <th>medium</th>\n",
       "      <th>user_type</th>\n",
       "      <th>variation</th>\n",
       "      <th>loads</th>\n",
       "      <th>submit_short</th>\n",
       "      <th>submit</th>\n",
       "    </tr>\n",
       "  </thead>\n",
       "  <tbody>\n",
       "    <tr>\n",
       "      <td>113</td>\n",
       "      <td>d021cd55-0a3b-11ea-8000-0000e6ce10ab</td>\n",
       "      <td>AV3S9Hka3VY</td>\n",
       "      <td>yandex.ru</td>\n",
       "      <td>HIGHEND_PHONE</td>\n",
       "      <td>NaN</td>\n",
       "      <td>Visitor</td>\n",
       "      <td>1134:4075-Новая продуктовая</td>\n",
       "      <td>1</td>\n",
       "      <td>0</td>\n",
       "      <td>0</td>\n",
       "    </tr>\n",
       "    <tr>\n",
       "      <td>567</td>\n",
       "      <td>1bca4db0-0a3c-11ea-8000-00009e18b085</td>\n",
       "      <td>AV3S9Hka3VY</td>\n",
       "      <td>yandex.ru</td>\n",
       "      <td>HIGHEND_PHONE</td>\n",
       "      <td>NaN</td>\n",
       "      <td>Visitor</td>\n",
       "      <td>1134:4075-Новая продуктовая</td>\n",
       "      <td>1</td>\n",
       "      <td>0</td>\n",
       "      <td>0</td>\n",
       "    </tr>\n",
       "  </tbody>\n",
       "</table>\n",
       "</div>"
      ],
      "text/plain": [
       "                                       ic   session_id     source  \\\n",
       "113  d021cd55-0a3b-11ea-8000-0000e6ce10ab  AV3S9Hka3VY  yandex.ru   \n",
       "567  1bca4db0-0a3c-11ea-8000-00009e18b085  AV3S9Hka3VY  yandex.ru   \n",
       "\n",
       "       device_type medium user_type                    variation  loads  \\\n",
       "113  HIGHEND_PHONE    NaN   Visitor  1134:4075-Новая продуктовая      1   \n",
       "567  HIGHEND_PHONE    NaN   Visitor  1134:4075-Новая продуктовая      1   \n",
       "\n",
       "     submit_short  submit  \n",
       "113             0       0  \n",
       "567             0       0  "
      ]
     },
     "execution_count": 6,
     "metadata": {},
     "output_type": "execute_result"
    }
   ],
   "source": [
    "data[data['session_id']=='AV3S9Hka3VY']"
   ]
  },
  {
   "cell_type": "code",
   "execution_count": 7,
   "metadata": {},
   "outputs": [
    {
     "data": {
      "text/html": [
       "<div>\n",
       "<style scoped>\n",
       "    .dataframe tbody tr th:only-of-type {\n",
       "        vertical-align: middle;\n",
       "    }\n",
       "\n",
       "    .dataframe tbody tr th {\n",
       "        vertical-align: top;\n",
       "    }\n",
       "\n",
       "    .dataframe thead th {\n",
       "        text-align: right;\n",
       "    }\n",
       "</style>\n",
       "<table border=\"1\" class=\"dataframe\">\n",
       "  <thead>\n",
       "    <tr style=\"text-align: right;\">\n",
       "      <th></th>\n",
       "      <th>ic</th>\n",
       "      <th>session_id</th>\n",
       "      <th>source</th>\n",
       "      <th>device_type</th>\n",
       "      <th>medium</th>\n",
       "      <th>user_type</th>\n",
       "      <th>variation</th>\n",
       "      <th>loads</th>\n",
       "      <th>submit_short</th>\n",
       "      <th>submit</th>\n",
       "    </tr>\n",
       "  </thead>\n",
       "  <tbody>\n",
       "    <tr>\n",
       "      <td>415</td>\n",
       "      <td>9c602e40-0ae5-11ea-8000-0000d218e5fc</td>\n",
       "      <td>AV3UEUlhaK8</td>\n",
       "      <td>https://www.tinkoff.ru/cards/credit-cards/</td>\n",
       "      <td>HIGHEND_PHONE</td>\n",
       "      <td>NaN</td>\n",
       "      <td>Visitor</td>\n",
       "      <td>1134:4074-Контрольная вариация</td>\n",
       "      <td>0</td>\n",
       "      <td>1</td>\n",
       "      <td>0</td>\n",
       "    </tr>\n",
       "    <tr>\n",
       "      <td>900</td>\n",
       "      <td>8e36e1bf-0ae8-11ea-8000-000063b1efc4</td>\n",
       "      <td>AV3UEUlhaK8</td>\n",
       "      <td>https://www.tinkoff.ru/cards/credit-cards/</td>\n",
       "      <td>HIGHEND_PHONE</td>\n",
       "      <td>NaN</td>\n",
       "      <td>Visitor</td>\n",
       "      <td>1134:4074-Контрольная вариация</td>\n",
       "      <td>0</td>\n",
       "      <td>0</td>\n",
       "      <td>1</td>\n",
       "    </tr>\n",
       "  </tbody>\n",
       "</table>\n",
       "</div>"
      ],
      "text/plain": [
       "                                       ic   session_id  \\\n",
       "415  9c602e40-0ae5-11ea-8000-0000d218e5fc  AV3UEUlhaK8   \n",
       "900  8e36e1bf-0ae8-11ea-8000-000063b1efc4  AV3UEUlhaK8   \n",
       "\n",
       "                                         source    device_type medium  \\\n",
       "415  https://www.tinkoff.ru/cards/credit-cards/  HIGHEND_PHONE    NaN   \n",
       "900  https://www.tinkoff.ru/cards/credit-cards/  HIGHEND_PHONE    NaN   \n",
       "\n",
       "    user_type                       variation  loads  submit_short  submit  \n",
       "415   Visitor  1134:4074-Контрольная вариация      0             1       0  \n",
       "900   Visitor  1134:4074-Контрольная вариация      0             0       1  "
      ]
     },
     "execution_count": 7,
     "metadata": {},
     "output_type": "execute_result"
    }
   ],
   "source": [
    "data[data['session_id']=='AV3UEUlhaK8']"
   ]
  },
  {
   "cell_type": "code",
   "execution_count": 8,
   "metadata": {},
   "outputs": [
    {
     "data": {
      "text/html": [
       "<div>\n",
       "<style scoped>\n",
       "    .dataframe tbody tr th:only-of-type {\n",
       "        vertical-align: middle;\n",
       "    }\n",
       "\n",
       "    .dataframe tbody tr th {\n",
       "        vertical-align: top;\n",
       "    }\n",
       "\n",
       "    .dataframe thead th {\n",
       "        text-align: right;\n",
       "    }\n",
       "</style>\n",
       "<table border=\"1\" class=\"dataframe\">\n",
       "  <thead>\n",
       "    <tr style=\"text-align: right;\">\n",
       "      <th></th>\n",
       "      <th>ic</th>\n",
       "      <th>session_id</th>\n",
       "      <th>source</th>\n",
       "      <th>device_type</th>\n",
       "      <th>medium</th>\n",
       "      <th>user_type</th>\n",
       "      <th>variation</th>\n",
       "      <th>loads</th>\n",
       "      <th>submit_short</th>\n",
       "      <th>submit</th>\n",
       "    </tr>\n",
       "  </thead>\n",
       "  <tbody>\n",
       "    <tr>\n",
       "      <td>215</td>\n",
       "      <td>8e84f481-ff5d-11e9-8000-0000c65d3ea0</td>\n",
       "      <td>AV3ApaafjQQ</td>\n",
       "      <td>cross_mvno</td>\n",
       "      <td>HIGHEND_PHONE</td>\n",
       "      <td>NaN</td>\n",
       "      <td>Visitor</td>\n",
       "      <td>1134:4074-Контрольная вариация</td>\n",
       "      <td>0</td>\n",
       "      <td>1</td>\n",
       "      <td>0</td>\n",
       "    </tr>\n",
       "    <tr>\n",
       "      <td>799</td>\n",
       "      <td>70aa2bea-ff54-11e9-8000-0000cc24536f</td>\n",
       "      <td>AV3ApaafjQQ</td>\n",
       "      <td>avito_cc</td>\n",
       "      <td>HIGHEND_PHONE</td>\n",
       "      <td>aft.THANKYOUPAGE</td>\n",
       "      <td>Visitor</td>\n",
       "      <td>1134:4074-Контрольная вариация</td>\n",
       "      <td>0</td>\n",
       "      <td>1</td>\n",
       "      <td>0</td>\n",
       "    </tr>\n",
       "  </tbody>\n",
       "</table>\n",
       "</div>"
      ],
      "text/plain": [
       "                                       ic   session_id      source  \\\n",
       "215  8e84f481-ff5d-11e9-8000-0000c65d3ea0  AV3ApaafjQQ  cross_mvno   \n",
       "799  70aa2bea-ff54-11e9-8000-0000cc24536f  AV3ApaafjQQ    avito_cc   \n",
       "\n",
       "       device_type            medium user_type  \\\n",
       "215  HIGHEND_PHONE               NaN   Visitor   \n",
       "799  HIGHEND_PHONE  aft.THANKYOUPAGE   Visitor   \n",
       "\n",
       "                          variation  loads  submit_short  submit  \n",
       "215  1134:4074-Контрольная вариация      0             1       0  \n",
       "799  1134:4074-Контрольная вариация      0             1       0  "
      ]
     },
     "execution_count": 8,
     "metadata": {},
     "output_type": "execute_result"
    }
   ],
   "source": [
    "data[data['session_id']=='AV3ApaafjQQ']"
   ]
  },
  {
   "cell_type": "code",
   "execution_count": 9,
   "metadata": {},
   "outputs": [
    {
     "data": {
      "text/html": [
       "<div>\n",
       "<style scoped>\n",
       "    .dataframe tbody tr th:only-of-type {\n",
       "        vertical-align: middle;\n",
       "    }\n",
       "\n",
       "    .dataframe tbody tr th {\n",
       "        vertical-align: top;\n",
       "    }\n",
       "\n",
       "    .dataframe thead th {\n",
       "        text-align: right;\n",
       "    }\n",
       "</style>\n",
       "<table border=\"1\" class=\"dataframe\">\n",
       "  <thead>\n",
       "    <tr style=\"text-align: right;\">\n",
       "      <th></th>\n",
       "      <th>ic</th>\n",
       "      <th>session_id</th>\n",
       "      <th>source</th>\n",
       "      <th>device_type</th>\n",
       "      <th>medium</th>\n",
       "      <th>user_type</th>\n",
       "      <th>variation</th>\n",
       "      <th>loads</th>\n",
       "      <th>submit_short</th>\n",
       "      <th>submit</th>\n",
       "    </tr>\n",
       "  </thead>\n",
       "  <tbody>\n",
       "    <tr>\n",
       "      <td>64</td>\n",
       "      <td>5895e2fa-0ae7-11ea-8000-000080f22983</td>\n",
       "      <td>AV3UFEsjGzk</td>\n",
       "      <td>www.google.com</td>\n",
       "      <td>HIGHEND_PHONE</td>\n",
       "      <td>NaN</td>\n",
       "      <td>Visitor</td>\n",
       "      <td>1134:4075-Новая продуктовая</td>\n",
       "      <td>0</td>\n",
       "      <td>1</td>\n",
       "      <td>0</td>\n",
       "    </tr>\n",
       "    <tr>\n",
       "      <td>110</td>\n",
       "      <td>5895e2fa-0ae7-11ea-8000-000080f22983</td>\n",
       "      <td>AV3UFEsjGzk</td>\n",
       "      <td>www.google.com</td>\n",
       "      <td>HIGHEND_PHONE</td>\n",
       "      <td>NaN</td>\n",
       "      <td>Visitor</td>\n",
       "      <td>1134:4075-Новая продуктовая</td>\n",
       "      <td>1</td>\n",
       "      <td>0</td>\n",
       "      <td>0</td>\n",
       "    </tr>\n",
       "  </tbody>\n",
       "</table>\n",
       "</div>"
      ],
      "text/plain": [
       "                                       ic   session_id          source  \\\n",
       "64   5895e2fa-0ae7-11ea-8000-000080f22983  AV3UFEsjGzk  www.google.com   \n",
       "110  5895e2fa-0ae7-11ea-8000-000080f22983  AV3UFEsjGzk  www.google.com   \n",
       "\n",
       "       device_type medium user_type                    variation  loads  \\\n",
       "64   HIGHEND_PHONE    NaN   Visitor  1134:4075-Новая продуктовая      0   \n",
       "110  HIGHEND_PHONE    NaN   Visitor  1134:4075-Новая продуктовая      1   \n",
       "\n",
       "     submit_short  submit  \n",
       "64              1       0  \n",
       "110             0       0  "
      ]
     },
     "execution_count": 9,
     "metadata": {},
     "output_type": "execute_result"
    }
   ],
   "source": [
    "data[data['session_id']=='AV3UFEsjGzk']"
   ]
  },
  {
   "cell_type": "code",
   "execution_count": 10,
   "metadata": {
    "scrolled": true
   },
   "outputs": [
    {
     "data": {
      "text/html": [
       "<div>\n",
       "<style scoped>\n",
       "    .dataframe tbody tr th:only-of-type {\n",
       "        vertical-align: middle;\n",
       "    }\n",
       "\n",
       "    .dataframe tbody tr th {\n",
       "        vertical-align: top;\n",
       "    }\n",
       "\n",
       "    .dataframe thead th {\n",
       "        text-align: right;\n",
       "    }\n",
       "</style>\n",
       "<table border=\"1\" class=\"dataframe\">\n",
       "  <thead>\n",
       "    <tr style=\"text-align: right;\">\n",
       "      <th></th>\n",
       "      <th>ic</th>\n",
       "      <th>session_id</th>\n",
       "      <th>source</th>\n",
       "      <th>device_type</th>\n",
       "      <th>medium</th>\n",
       "      <th>user_type</th>\n",
       "      <th>variation</th>\n",
       "      <th>loads</th>\n",
       "      <th>submit_short</th>\n",
       "      <th>submit</th>\n",
       "    </tr>\n",
       "  </thead>\n",
       "  <tbody>\n",
       "    <tr>\n",
       "      <td>503</td>\n",
       "      <td>f5065f2e-0188-11ea-8000-0000d996616b</td>\n",
       "      <td>AV3EXHEUcvo</td>\n",
       "      <td>https://www.tinkoff.ru/cards/credit-cards/</td>\n",
       "      <td>PERSONAL_COMPUTER</td>\n",
       "      <td>NaN</td>\n",
       "      <td>Visitor</td>\n",
       "      <td>1134:4075-Новая продуктовая</td>\n",
       "      <td>1</td>\n",
       "      <td>0</td>\n",
       "      <td>0</td>\n",
       "    </tr>\n",
       "    <tr>\n",
       "      <td>704</td>\n",
       "      <td>e7496ed5-0188-11ea-8000-0000b864baf7</td>\n",
       "      <td>AV3EXHEUcvo</td>\n",
       "      <td>https://www.tinkoff.ru/cards/credit-cards/</td>\n",
       "      <td>PERSONAL_COMPUTER</td>\n",
       "      <td>NaN</td>\n",
       "      <td>Visitor</td>\n",
       "      <td>1134:4075-Новая продуктовая</td>\n",
       "      <td>1</td>\n",
       "      <td>0</td>\n",
       "      <td>0</td>\n",
       "    </tr>\n",
       "  </tbody>\n",
       "</table>\n",
       "</div>"
      ],
      "text/plain": [
       "                                       ic   session_id  \\\n",
       "503  f5065f2e-0188-11ea-8000-0000d996616b  AV3EXHEUcvo   \n",
       "704  e7496ed5-0188-11ea-8000-0000b864baf7  AV3EXHEUcvo   \n",
       "\n",
       "                                         source        device_type medium  \\\n",
       "503  https://www.tinkoff.ru/cards/credit-cards/  PERSONAL_COMPUTER    NaN   \n",
       "704  https://www.tinkoff.ru/cards/credit-cards/  PERSONAL_COMPUTER    NaN   \n",
       "\n",
       "    user_type                    variation  loads  submit_short  submit  \n",
       "503   Visitor  1134:4075-Новая продуктовая      1             0       0  \n",
       "704   Visitor  1134:4075-Новая продуктовая      1             0       0  "
      ]
     },
     "execution_count": 10,
     "metadata": {},
     "output_type": "execute_result"
    }
   ],
   "source": [
    "data[data['session_id']=='AV3EXHEUcvo']"
   ]
  },
  {
   "cell_type": "markdown",
   "metadata": {},
   "source": [
    "Cдедублицирование\n",
    "\n",
    "если сессии повторяются, для лучшей конверисии за агрегирование возьмем позицию, которая в воронке стоит ниже\n",
    "\n",
    "(loads->submit_short->submit)"
   ]
  },
  {
   "cell_type": "code",
   "execution_count": 11,
   "metadata": {},
   "outputs": [],
   "source": [
    "del_index = [567, 415, 799, 110, 704 ]"
   ]
  },
  {
   "cell_type": "code",
   "execution_count": 12,
   "metadata": {},
   "outputs": [
    {
     "data": {
      "text/plain": [
       "1134:4075-Новая продуктовая       506\n",
       "1134:4074-Контрольная вариация    489\n",
       "Name: variation, dtype: int64"
      ]
     },
     "execution_count": 12,
     "metadata": {},
     "output_type": "execute_result"
    }
   ],
   "source": [
    "data = data[~data.index.isin(del_index)]\n",
    "data['variation'].value_counts()"
   ]
  },
  {
   "cell_type": "markdown",
   "metadata": {},
   "source": [
    "кол-во каналов, с которых пришел пользователь"
   ]
  },
  {
   "cell_type": "code",
   "execution_count": 13,
   "metadata": {},
   "outputs": [
    {
     "data": {
      "text/plain": [
       "29"
      ]
     },
     "execution_count": 13,
     "metadata": {},
     "output_type": "execute_result"
    }
   ],
   "source": [
    "data['medium'].nunique()"
   ]
  },
  {
   "cell_type": "markdown",
   "metadata": {},
   "source": [
    "каналы, с которых пришло больше всего пользователей"
   ]
  },
  {
   "cell_type": "code",
   "execution_count": 14,
   "metadata": {},
   "outputs": [
    {
     "data": {
      "text/plain": [
       "ctx.cpc             360\n",
       "aft.APPR             41\n",
       "mln.unp              18\n",
       "trg.cpc              17\n",
       "aft.ACT               9\n",
       "smm.unp               7\n",
       "aft.THANKYOUPAGE      7\n",
       "mln                   6\n",
       "trg.cpm               6\n",
       "aft.UTIL              6\n",
       "Name: medium, dtype: int64"
      ]
     },
     "execution_count": 14,
     "metadata": {},
     "output_type": "execute_result"
    }
   ],
   "source": [
    "data['medium'].value_counts()[:10]"
   ]
  },
  {
   "cell_type": "code",
   "execution_count": 15,
   "metadata": {},
   "outputs": [
    {
     "data": {
      "image/png": "[encoded data removed]",
      "text/plain": [
       "<Figure size 720x576 with 1 Axes>"
      ]
     },
     "metadata": {
      "needs_background": "light"
     },
     "output_type": "display_data"
    }
   ],
   "source": [
    "plt.figure(figsize=(10,8))\n",
    "data['medium'].value_counts()[:10].plot(kind='bar')\n",
    "plt.xlabel('channel',fontsize=14);"
   ]
  },
  {
   "cell_type": "markdown",
   "metadata": {},
   "source": [
    "источники трафика (по нагрузке)"
   ]
  },
  {
   "cell_type": "code",
   "execution_count": 16,
   "metadata": {},
   "outputs": [
    {
     "data": {
      "text/plain": [
       "source\n",
       "google                                        205\n",
       "yandex                                        111\n",
       "yandex.ru                                      77\n",
       "www.google.com                                 59\n",
       "https://www.tinkoff.ru/cards/credit-cards/     32\n",
       "https://www.google.ru/                         29\n",
       "www.google.ru                                  27\n",
       "www.yandex.ru                                  21\n",
       "https://www.tinkoff.ru/                        15\n",
       "https://yandex.ru/                             14\n",
       "https://www.google.com/                        12\n",
       "mytarget_cc                                    11\n",
       "link.emails.tinkoff.ru                         11\n",
       "admitad_cc                                     11\n",
       "emailsma                                       10\n",
       "Name: loads, dtype: int64"
      ]
     },
     "execution_count": 16,
     "metadata": {},
     "output_type": "execute_result"
    }
   ],
   "source": [
    "data.groupby('source')['loads'].sum().sort_values(ascending=False)[:15]"
   ]
  },
  {
   "cell_type": "code",
   "execution_count": 17,
   "metadata": {},
   "outputs": [
    {
     "data": {
      "image/png": "[encoded data removed]",
      "text/plain": [
       "<Figure size 648x504 with 1 Axes>"
      ]
     },
     "metadata": {
      "needs_background": "light"
     },
     "output_type": "display_data"
    }
   ],
   "source": [
    "plt.figure(figsize=(9,7))\n",
    "data.groupby('source')['loads'].sum().sort_values(ascending=False)[:15].plot(kind='bar');"
   ]
  },
  {
   "cell_type": "markdown",
   "metadata": {},
   "source": [
    "для наглядности разобьем исходную таблицу по идентификатору вариации"
   ]
  },
  {
   "cell_type": "code",
   "execution_count": 18,
   "metadata": {},
   "outputs": [],
   "source": [
    "data_new = data[data['variation'] =='1134:4075-Новая продуктовая']\n",
    "data_control = data[data['variation'] == '1134:4074-Контрольная вариация']"
   ]
  },
  {
   "cell_type": "markdown",
   "metadata": {},
   "source": [
    "посмотрим, с каких каналов привлечения приходят пользователи 2 групп"
   ]
  },
  {
   "cell_type": "code",
   "execution_count": 19,
   "metadata": {},
   "outputs": [
    {
     "data": {
      "image/png": "[encoded data removed]",
      "text/plain": [
       "<Figure size 1008x864 with 2 Axes>"
      ]
     },
     "metadata": {
      "needs_background": "light"
     },
     "output_type": "display_data"
    }
   ],
   "source": [
    "plt.figure(figsize=(14,12))\n",
    "plt.subplot(2,2,1)\n",
    "data_new.groupby('medium')['loads'].sum().sort_values(ascending=False)[:10].plot(kind='bar')\n",
    "plt.xlabel('Новая продуктовая')\n",
    "\n",
    "plt.subplot(2,2,2)\n",
    "data_control.groupby('medium')['loads'].sum().sort_values(ascending=False)[:10].plot(kind='bar')\n",
    "plt.xlabel('Контрольная вариация');"
   ]
  },
  {
   "cell_type": "markdown",
   "metadata": {},
   "source": [
    "Чаще всего пользователи приходят с ctx.cpc и aft.APPR. В группу \"Новая продуктовая\" канал mln.unp привлек больше пользователей, чем trg.cpc, в \"Контрольная вариация\" - наоборот "
   ]
  },
  {
   "cell_type": "markdown",
   "metadata": {},
   "source": [
    "Откуда приходил трафик\n",
    "\n",
    "\"Новая продуктовая\""
   ]
  },
  {
   "cell_type": "code",
   "execution_count": 20,
   "metadata": {},
   "outputs": [
    {
     "data": {
      "text/plain": [
       "source\n",
       "google                                        106\n",
       "yandex                                         50\n",
       "yandex.ru                                      40\n",
       "www.google.com                                 37\n",
       "https://www.tinkoff.ru/cards/credit-cards/     15\n",
       "Name: loads, dtype: int64"
      ]
     },
     "execution_count": 20,
     "metadata": {},
     "output_type": "execute_result"
    }
   ],
   "source": [
    "data_new.groupby('source')['loads'].sum().sort_values(ascending=False)[:5]"
   ]
  },
  {
   "cell_type": "markdown",
   "metadata": {},
   "source": [
    "\"Контрольная вариация\""
   ]
  },
  {
   "cell_type": "code",
   "execution_count": 21,
   "metadata": {},
   "outputs": [
    {
     "data": {
      "text/plain": [
       "source\n",
       "google            99\n",
       "yandex            61\n",
       "yandex.ru         37\n",
       "www.google.com    22\n",
       "www.google.ru     17\n",
       "Name: loads, dtype: int64"
      ]
     },
     "execution_count": 21,
     "metadata": {},
     "output_type": "execute_result"
    }
   ],
   "source": [
    "data_control.groupby('source')['loads'].sum().sort_values(ascending=False)[:5]"
   ]
  },
  {
   "cell_type": "code",
   "execution_count": 22,
   "metadata": {},
   "outputs": [
    {
     "data": {
      "text/plain": [
       "(995, 10)"
      ]
     },
     "execution_count": 22,
     "metadata": {},
     "output_type": "execute_result"
    }
   ],
   "source": [
    "data.shape"
   ]
  },
  {
   "cell_type": "markdown",
   "metadata": {},
   "source": [
    "посмотрим на распределение событий на разных девайсах для 2 групп"
   ]
  },
  {
   "cell_type": "code",
   "execution_count": 23,
   "metadata": {},
   "outputs": [
    {
     "data": {
      "image/png": "[encoded data removed]",
      "text/plain": [
       "<Figure size 1008x864 with 1 Axes>"
      ]
     },
     "metadata": {
      "needs_background": "light"
     },
     "output_type": "display_data"
    }
   ],
   "source": [
    "data.groupby(['variation', 'device_type']) \\\n",
    "        ['loads', 'submit_short', 'submit'].sum().transpose().plot(kind='bar', figsize=(14,12));"
   ]
  },
  {
   "cell_type": "markdown",
   "metadata": {},
   "source": [
    "по графику видно, что событие-загрузка страницы для control-группы совершалось больше с телефонов, в то время как у new было больше загрузок с компьютера\n",
    "    неполный сабмит у control-группы также больше был с телефонов, как и у new-группы, однако в обоих случаях неполные сабмиты отсутствуют с планшетов.\n",
    "Некоторое кол-во сабмитов у control-группы было осуществлено чз планшет, у new-группы нет"
   ]
  },
  {
   "cell_type": "markdown",
   "metadata": {},
   "source": [
    "метрика1: \n",
    "насколько в группе new больше пользовательских загрузок по сравнению с группой control в процентах от числа загрузок в контрольной группе, в процентах"
   ]
  },
  {
   "cell_type": "code",
   "execution_count": 24,
   "metadata": {},
   "outputs": [
    {
     "data": {
      "text/plain": [
       "2.538"
      ]
     },
     "execution_count": 24,
     "metadata": {},
     "output_type": "execute_result"
    }
   ],
   "source": [
    "round((data_new['loads'].sum() - data_control['loads'].sum())/data_control['loads'].sum()*100,3)"
   ]
  },
  {
   "cell_type": "markdown",
   "metadata": {},
   "source": [
    "метрика2: \n",
    "насколько в группе new больше пользовательских submit_short по сравнению с группой control в процентах от числа submit_short в контрольной группе, в процентах"
   ]
  },
  {
   "cell_type": "code",
   "execution_count": 25,
   "metadata": {},
   "outputs": [
    {
     "data": {
      "text/plain": [
       "9.677"
      ]
     },
     "execution_count": 25,
     "metadata": {},
     "output_type": "execute_result"
    }
   ],
   "source": [
    "round((data_new['submit_short'].sum() - data_control['submit_short'].sum())/data_control['submit_short'].sum()*100,3)"
   ]
  },
  {
   "cell_type": "markdown",
   "metadata": {},
   "source": [
    "метрика3: насколько в группе new больше пользовательских полных submit по сравнению с группой control в процентах от числа полных submit в контрольной группе, в процентах"
   ]
  },
  {
   "cell_type": "code",
   "execution_count": 26,
   "metadata": {},
   "outputs": [
    {
     "data": {
      "text/plain": [
       "3.03"
      ]
     },
     "execution_count": 26,
     "metadata": {},
     "output_type": "execute_result"
    }
   ],
   "source": [
    "round((data_new['submit'].sum() - data_control['submit'].sum())/data_control['submit'].sum()*100, 2)"
   ]
  },
  {
   "cell_type": "markdown",
   "metadata": {},
   "source": [
    "Pаспределение событий по идентификаторам вариации \n",
    "\n"
   ]
  },
  {
   "cell_type": "code",
   "execution_count": 27,
   "metadata": {},
   "outputs": [
    {
     "data": {
      "text/html": [
       "<div>\n",
       "<style scoped>\n",
       "    .dataframe tbody tr th:only-of-type {\n",
       "        vertical-align: middle;\n",
       "    }\n",
       "\n",
       "    .dataframe tbody tr th {\n",
       "        vertical-align: top;\n",
       "    }\n",
       "\n",
       "    .dataframe thead th {\n",
       "        text-align: right;\n",
       "    }\n",
       "</style>\n",
       "<table border=\"1\" class=\"dataframe\">\n",
       "  <thead>\n",
       "    <tr style=\"text-align: right;\">\n",
       "      <th></th>\n",
       "      <th>n</th>\n",
       "      <th>loads</th>\n",
       "      <th>submit_short</th>\n",
       "      <th>submit</th>\n",
       "    </tr>\n",
       "    <tr>\n",
       "      <th>variation</th>\n",
       "      <th></th>\n",
       "      <th></th>\n",
       "      <th></th>\n",
       "      <th></th>\n",
       "    </tr>\n",
       "  </thead>\n",
       "  <tbody>\n",
       "    <tr>\n",
       "      <td>1134:4074-Контрольная вариация</td>\n",
       "      <td>489</td>\n",
       "      <td>394</td>\n",
       "      <td>62</td>\n",
       "      <td>33</td>\n",
       "    </tr>\n",
       "    <tr>\n",
       "      <td>1134:4075-Новая продуктовая</td>\n",
       "      <td>506</td>\n",
       "      <td>404</td>\n",
       "      <td>68</td>\n",
       "      <td>34</td>\n",
       "    </tr>\n",
       "  </tbody>\n",
       "</table>\n",
       "</div>"
      ],
      "text/plain": [
       "                                  n  loads  submit_short  submit\n",
       "variation                                                       \n",
       "1134:4074-Контрольная вариация  489    394            62      33\n",
       "1134:4075-Новая продуктовая     506    404            68      34"
      ]
     },
     "execution_count": 27,
     "metadata": {},
     "output_type": "execute_result"
    }
   ],
   "source": [
    "df =pd.DataFrame(index=['1134:4074-Контрольная вариация', '1134:4075-Новая продуктовая'])\n",
    "df = data.groupby('variation')['loads', 'submit_short', 'submit'].sum()\n",
    "df['n'] = [data_control.shape[0], data_new.shape[0]]\n",
    "df= df.reindex(columns=['n','loads', 'submit_short', 'submit'])\n",
    "df"
   ]
  },
  {
   "cell_type": "markdown",
   "metadata": {},
   "source": [
    "***Визуализация продуктовой воронки***"
   ]
  },
  {
   "cell_type": "code",
   "execution_count": 28,
   "metadata": {},
   "outputs": [
    {
     "data": {
      "image/png": "[encoded data removed]",
      "text/plain": [
       "<Figure size 648x504 with 1 Axes>"
      ]
     },
     "metadata": {
      "needs_background": "light"
     },
     "output_type": "display_data"
    }
   ],
   "source": [
    "df.transpose().plot(kind='bar', figsize=(9,7));"
   ]
  },
  {
   "cell_type": "markdown",
   "metadata": {},
   "source": [
    "посмотрим конверсию"
   ]
  },
  {
   "cell_type": "code",
   "execution_count": 29,
   "metadata": {},
   "outputs": [
    {
     "data": {
      "text/plain": [
       "variation\n",
       "1134:4074-Контрольная вариация    6.748466\n",
       "1134:4075-Новая продуктовая       6.719368\n",
       "dtype: float64"
      ]
     },
     "execution_count": 29,
     "metadata": {},
     "output_type": "execute_result"
    }
   ],
   "source": [
    "df['submit']/df['n']*100"
   ]
  },
  {
   "cell_type": "markdown",
   "metadata": {},
   "source": [
    "если брать к общему числу испытуемым, видно, что качество даже купало"
   ]
  },
  {
   "cell_type": "code",
   "execution_count": 30,
   "metadata": {},
   "outputs": [
    {
     "data": {
      "text/plain": [
       "variation\n",
       "1134:4074-Контрольная вариация    8.375635\n",
       "1134:4075-Новая продуктовая       8.415842\n",
       "dtype: float64"
      ]
     },
     "execution_count": 30,
     "metadata": {},
     "output_type": "execute_result"
    }
   ],
   "source": [
    "df['submit']/df['loads']*100"
   ]
  },
  {
   "cell_type": "markdown",
   "metadata": {},
   "source": [
    "если смотреть относительно загрузки страницы, качество увеличилось, можно сказать не значительно(0.04%)"
   ]
  },
  {
   "cell_type": "markdown",
   "metadata": {},
   "source": [
    "Проверим статисическую значимость данного AB-теста"
   ]
  },
  {
   "cell_type": "markdown",
   "metadata": {},
   "source": [
    "* Н0: A-тест=B-тест\n",
    "* Н1: против двусторонней А!=В"
   ]
  },
  {
   "cell_type": "markdown",
   "metadata": {},
   "source": [
    "достигаемый уровень значимости посчитаем с помощью scipy.stats.chi2_contingency"
   ]
  },
  {
   "cell_type": "code",
   "execution_count": 31,
   "metadata": {},
   "outputs": [
    {
     "data": {
      "text/plain": [
       "(0.12674647075190007,\n",
       " 0.9884450267635194,\n",
       " 3,\n",
       " array([[489.        , 392.18291457,  63.88944724,  32.92763819],\n",
       "        [506.        , 405.81708543,  66.11055276,  34.07236181]]))"
      ]
     },
     "execution_count": 31,
     "metadata": {},
     "output_type": "execute_result"
    }
   ],
   "source": [
    "stats.chi2_contingency(df)"
   ]
  },
  {
   "cell_type": "code",
   "execution_count": 32,
   "metadata": {},
   "outputs": [
    {
     "data": {
      "text/plain": [
       "0.9884450267635194"
      ]
     },
     "execution_count": 32,
     "metadata": {},
     "output_type": "execute_result"
    }
   ],
   "source": [
    "p_value = stats.chi2_contingency(df)[1]\n",
    "p_value"
   ]
  },
  {
   "cell_type": "markdown",
   "metadata": {},
   "source": [
    "сравнивая p_value c порогом альфа в 0.05 (или даже 0.1), мы не можем отвергнуть нулевую гипотезу, следовательно в данном аб-тесте стат.значимости не наблюдается"
   ]
  },
  {
   "cell_type": "markdown",
   "metadata": {},
   "source": [
    "Возможные решения проблемы:\n",
    "\n",
    "1)сделать перcонализацию"
   ]
  },
  {
   "cell_type": "code",
   "execution_count": 33,
   "metadata": {},
   "outputs": [
    {
     "data": {
      "text/html": [
       "<div>\n",
       "<style scoped>\n",
       "    .dataframe tbody tr th:only-of-type {\n",
       "        vertical-align: middle;\n",
       "    }\n",
       "\n",
       "    .dataframe tbody tr th {\n",
       "        vertical-align: top;\n",
       "    }\n",
       "\n",
       "    .dataframe thead th {\n",
       "        text-align: right;\n",
       "    }\n",
       "</style>\n",
       "<table border=\"1\" class=\"dataframe\">\n",
       "  <thead>\n",
       "    <tr style=\"text-align: right;\">\n",
       "      <th></th>\n",
       "      <th>loads</th>\n",
       "      <th>submit_short</th>\n",
       "      <th>submit</th>\n",
       "    </tr>\n",
       "    <tr>\n",
       "      <th>user_type</th>\n",
       "      <th></th>\n",
       "      <th></th>\n",
       "      <th></th>\n",
       "    </tr>\n",
       "  </thead>\n",
       "  <tbody>\n",
       "    <tr>\n",
       "      <td>Applicant</td>\n",
       "      <td>4</td>\n",
       "      <td>2</td>\n",
       "      <td>1</td>\n",
       "    </tr>\n",
       "    <tr>\n",
       "      <td>Applicant: Credit Cards;Tinkoff Platinum</td>\n",
       "      <td>0</td>\n",
       "      <td>0</td>\n",
       "      <td>1</td>\n",
       "    </tr>\n",
       "    <tr>\n",
       "      <td>Applicant: Loans;Mortgage</td>\n",
       "      <td>1</td>\n",
       "      <td>0</td>\n",
       "      <td>0</td>\n",
       "    </tr>\n",
       "    <tr>\n",
       "      <td>Client-Heavy</td>\n",
       "      <td>54</td>\n",
       "      <td>2</td>\n",
       "      <td>2</td>\n",
       "    </tr>\n",
       "    <tr>\n",
       "      <td>Client-Light</td>\n",
       "      <td>21</td>\n",
       "      <td>4</td>\n",
       "      <td>2</td>\n",
       "    </tr>\n",
       "    <tr>\n",
       "      <td>Visitor</td>\n",
       "      <td>281</td>\n",
       "      <td>55</td>\n",
       "      <td>25</td>\n",
       "    </tr>\n",
       "  </tbody>\n",
       "</table>\n",
       "</div>"
      ],
      "text/plain": [
       "                                          loads  submit_short  submit\n",
       "user_type                                                            \n",
       "Applicant                                     4             2       1\n",
       "Applicant: Credit Cards;Tinkoff Platinum      0             0       1\n",
       "Applicant: Loans;Mortgage                     1             0       0\n",
       "Client-Heavy                                 54             2       2\n",
       "Client-Light                                 21             4       2\n",
       "Visitor                                     281            55      25"
      ]
     },
     "execution_count": 33,
     "metadata": {},
     "output_type": "execute_result"
    }
   ],
   "source": [
    "pers_new = data_new.groupby('user_type')['loads', 'submit_short', 'submit'].sum()\n",
    "pers_new"
   ]
  },
  {
   "cell_type": "code",
   "execution_count": 34,
   "metadata": {},
   "outputs": [
    {
     "data": {
      "text/html": [
       "<div>\n",
       "<style scoped>\n",
       "    .dataframe tbody tr th:only-of-type {\n",
       "        vertical-align: middle;\n",
       "    }\n",
       "\n",
       "    .dataframe tbody tr th {\n",
       "        vertical-align: top;\n",
       "    }\n",
       "\n",
       "    .dataframe thead th {\n",
       "        text-align: right;\n",
       "    }\n",
       "</style>\n",
       "<table border=\"1\" class=\"dataframe\">\n",
       "  <thead>\n",
       "    <tr style=\"text-align: right;\">\n",
       "      <th></th>\n",
       "      <th>loads</th>\n",
       "      <th>submit_short</th>\n",
       "      <th>submit</th>\n",
       "    </tr>\n",
       "    <tr>\n",
       "      <th>user_type</th>\n",
       "      <th></th>\n",
       "      <th></th>\n",
       "      <th></th>\n",
       "    </tr>\n",
       "  </thead>\n",
       "  <tbody>\n",
       "    <tr>\n",
       "      <td>Applicant</td>\n",
       "      <td>4</td>\n",
       "      <td>0</td>\n",
       "      <td>1</td>\n",
       "    </tr>\n",
       "    <tr>\n",
       "      <td>Client-Heavy</td>\n",
       "      <td>63</td>\n",
       "      <td>2</td>\n",
       "      <td>2</td>\n",
       "    </tr>\n",
       "    <tr>\n",
       "      <td>Client-Light</td>\n",
       "      <td>13</td>\n",
       "      <td>2</td>\n",
       "      <td>4</td>\n",
       "    </tr>\n",
       "    <tr>\n",
       "      <td>Visitor</td>\n",
       "      <td>264</td>\n",
       "      <td>53</td>\n",
       "      <td>25</td>\n",
       "    </tr>\n",
       "  </tbody>\n",
       "</table>\n",
       "</div>"
      ],
      "text/plain": [
       "              loads  submit_short  submit\n",
       "user_type                                \n",
       "Applicant         4             0       1\n",
       "Client-Heavy     63             2       2\n",
       "Client-Light     13             2       4\n",
       "Visitor         264            53      25"
      ]
     },
     "execution_count": 34,
     "metadata": {},
     "output_type": "execute_result"
    }
   ],
   "source": [
    "pers_cont = data_control.groupby('user_type')['loads', 'submit_short', 'submit'].sum()\n",
    "pers_cont"
   ]
  },
  {
   "cell_type": "markdown",
   "metadata": {},
   "source": [
    "по user_type видно, что они группы не однородны, например user_type-\"Applicant\""
   ]
  },
  {
   "cell_type": "markdown",
   "metadata": {},
   "source": [
    "2) проверить данный аб-тест на большей по кол-ву выборке, однако \"-\"-затратнее и не факт, что покажет рез-т"
   ]
  },
  {
   "cell_type": "code",
   "execution_count": null,
   "metadata": {},
   "outputs": [],
   "source": []
  },
  {
   "cell_type": "code",
   "execution_count": null,
   "metadata": {},
   "outputs": [],
   "source": []
  }
 ],
 "metadata": {
  "kernelspec": {
   "display_name": "Python 3",
   "language": "python",
   "name": "python3"
  },
  "language_info": {
   "codemirror_mode": {
    "name": "ipython",
    "version": 3
   },
   "file_extension": ".py",
   "mimetype": "text/x-python",
   "name": "python",
   "nbconvert_exporter": "python",
   "pygments_lexer": "ipython3",
   "version": "3.7.4"
  }
 },
 "nbformat": 4,
 "nbformat_minor": 2
}
